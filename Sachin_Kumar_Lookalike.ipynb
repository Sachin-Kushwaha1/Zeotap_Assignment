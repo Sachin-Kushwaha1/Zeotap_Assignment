{
 "cells": [
  {
   "cell_type": "code",
   "execution_count": 11,
   "metadata": {},
   "outputs": [
    {
     "name": "stdout",
     "output_type": "stream",
     "text": [
      "{'C0001': [('C0107', 0.9964), ('C0137', 0.9957), ('C0184', 0.9956)], 'C0002': [('C0088', 0.9961), ('C0142', 0.9882), ('C0159', 0.9732)], 'C0003': [('C0147', 0.9977), ('C0190', 0.997), ('C0174', 0.982)], 'C0004': [('C0113', 0.9943), ('C0102', 0.9792), ('C0169', 0.9785)], 'C0005': [('C0186', 0.997), ('C0159', 0.9965), ('C0140', 0.9912)], 'C0006': [('C0048', 0.9934), ('C0126', 0.9911), ('C0187', 0.9903)], 'C0007': [('C0146', 1.0), ('C0178', 0.9944), ('C0177', 0.9936)], 'C0008': [('C0018', 0.9837), ('C0122', 0.9613), ('C0046', 0.955)], 'C0009': [('C0198', 1.0), ('C0014', 0.9966), ('C0063', 0.994)], 'C0010': [('C0019', 0.9905), ('C0073', 0.9846), ('C0166', 0.9825)], 'C0011': [('C0107', 0.9951), ('C0048', 0.9949), ('C0001', 0.9887)], 'C0012': [('C0148', 0.9958), ('C0163', 0.9936), ('C0155', 0.9891)], 'C0013': [('C0163', 0.9963), ('C0148', 0.9941), ('C0155', 0.9916)], 'C0014': [('C0060', 0.9994), ('C0009', 0.9966), ('C0198', 0.9962)], 'C0015': [('C0020', 0.9987), ('C0058', 0.9896), ('C0033', 0.9884)], 'C0016': [('C0154', 0.996), ('C0185', 0.9902), ('C0183', 0.9877)], 'C0017': [('C0124', 0.9885), ('C0053', 0.972), ('C0041', 0.9688)], 'C0018': [('C0122', 0.9951), ('C0046', 0.9846), ('C0008', 0.9837)], 'C0019': [('C0166', 0.9985), ('C0172', 0.997), ('C0073', 0.9967)], 'C0020': [('C0015', 0.9987), ('C0058', 0.9957), ('C0033', 0.9939)]}\n"
     ]
    }
   ],
   "source": [
    "from sklearn.metrics.pairwise import cosine_similarity\n",
    "\n",
    "customers = pd.read_csv('Customers.csv')\n",
    "products = pd.read_csv('Products.csv')\n",
    "transactions = pd.read_csv('Transactions.csv')\n",
    "\n",
    "merged_df = transactions.merge(customers, on='CustomerID', how='inner').merge(products, on='ProductID', how='inner')\n",
    "\n",
    "customer_features = merged_df.groupby('CustomerID').agg({\n",
    "'TotalValue': 'sum',\n",
    "'Quantity': 'sum'\n",
    "}).reset_index()\n",
    "\n",
    "customer_features = customer_features.merge(customers[['CustomerID', 'Region']], on='CustomerID', how='left')\n",
    "customer_features = pd.get_dummies(customer_features, columns=['Region'], drop_first=True)\n",
    "\n",
    "scaler = StandardScaler()\n",
    "scaled_features = scaler.fit_transform(customer_features.drop(columns=['CustomerID']))\n",
    "\n",
    "similarity_matrix = cosine_similarity(scaled_features)\n",
    "\n",
    "customer_ids = customer_features['CustomerID'].tolist()\n",
    "top_lookalikes = {}\n",
    "\n",
    "for i, cust_id in enumerate(customer_ids[:20]):\n",
    "    similar_indices = similarity_matrix[i].argsort()[::-1][1:4]\n",
    "    top_lookalikes[cust_id] = [(customer_ids[j], round(float(similarity_matrix[i][j]), 4)) for j in similar_indices]\n",
    "\n",
    "lookalike_data = {cust_id: top_lookalikes[cust_id] for cust_id in top_lookalikes}\n",
    "\n",
    "with open('Lookalike.csv', 'w') as f:\n",
    "    f.write(\"Map<cust_id, List<cust_id, score>>\\n\")\n",
    "    for cust_id, lookalikes in lookalike_data.items():\n",
    "        f.write(f\"{cust_id}, {lookalikes}\\n\")\n",
    "\n",
    "print(lookalike_data)"
   ]
  },
  {
   "cell_type": "code",
   "execution_count": null,
   "metadata": {},
   "outputs": [],
   "source": []
  }
 ],
 "metadata": {
  "kernelspec": {
   "display_name": "Python 3",
   "language": "python",
   "name": "python3"
  }
 },
 "nbformat": 4,
 "nbformat_minor": 4
}
